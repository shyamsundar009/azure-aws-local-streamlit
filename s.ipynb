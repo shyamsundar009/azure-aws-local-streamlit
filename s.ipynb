{
 "cells": [
  {
   "cell_type": "code",
   "execution_count": 1,
   "metadata": {},
   "outputs": [],
   "source": [
    "\n",
    "# Azure Blob Storage credentials\n",
    "AZURE_CONNECTION_STRING = \"DefaultEndpointsProtocol=https;AccountName=usereadydemo;AccountKey=gI4MM9CckLtAIqcOAOfZlBVV3ZMSb0Lj/GgkEI+3cW4J8IRBnFYeDJtToJe9SVor/COOF6xPIG2j+AStLy/0ww==;EndpointSuffix=core.windows.net\"\n",
    "CONTAINER_NAME = \"data\"\n",
    "\n",
    "# Connect to Azure Blob Storage\n",
    "\n"
   ]
  },
  {
   "cell_type": "code",
   "execution_count": 2,
   "metadata": {},
   "outputs": [],
   "source": [
    "from langchain_community.document_loaders import PyPDFLoader\n",
    "from langchain_community.document_loaders import UnstructuredHTMLLoader\n",
    "from langchain_community.document_loaders import Docx2txtLoader\n",
    "from langchain_community.document_loaders import UnstructuredPowerPointLoader\n",
    "from langchain_text_splitters import RecursiveCharacterTextSplitter\n",
    "from azure.storage.blob import BlobServiceClient\n",
    "import shutil\n",
    "\n",
    "def load_file(file_name):\n",
    "    loader=[]\n",
    "    print(file_name.split(\".\")[-1])\n",
    "    if file_name.split('.')[-1] == \"pptx\":\n",
    "        loader = UnstructuredPowerPointLoader(file_name).load()\n",
    "    elif file_name.split('.')[-1] == \"pdf\":\n",
    "        loader = PyPDFLoader(file_name).load()    \n",
    "    elif file_name.split('.')[-1] == \"docx\":\n",
    "        loader = Docx2txtLoader(file_name).load()\n",
    "    elif file_name.split('.')[-1] == \"html\":\n",
    "        loader = UnstructuredHTMLLoader(file_name).load()\n",
    "    text_splitter = RecursiveCharacterTextSplitter(\n",
    "            chunk_size=300,\n",
    "            chunk_overlap=0,\n",
    "            is_separator_regex=False,\n",
    "        )\n",
    "    pages = text_splitter.split_documents(loader)\n",
    "    return pages\n",
    "\n",
    "import os\n",
    "def file_to_chunks():\n",
    "    pages=[]\n",
    "    for file_name in os.listdir(\"Azure_data\"):\n",
    "        m=load_file(f\"Azure_data\\\\{file_name}\")\n",
    "        print(f\"Azure_data\\\\{file_name} is being processed to documents.....\")\n",
    "        print(len(m))\n",
    "        pages.extend(m)\n",
    "    # shutil.rmtree(\"Azure_data\")\n",
    "    return pages\n",
    "    \n",
    "def azure_data_download(AZURE_CONNECTION_STRING,CONTAINER_NAME):\n",
    "    blob_service_client = BlobServiceClient.from_connection_string(AZURE_CONNECTION_STRING)\n",
    "    container_client = blob_service_client.get_container_client(CONTAINER_NAME)\n",
    "    if not os.path.exists(\"Azure\"):\n",
    "        os.mkdir(\"Azure_data\")\n",
    "    for file_name in container_client.list_blobs():\n",
    "        blob_client = container_client.get_blob_client(file_name)\n",
    "        with open(f\"Azure_data\\\\{file_name.name}\", \"wb\") as file:\n",
    "            data = blob_client.download_blob().readall()\n",
    "            file.write(data)"
   ]
  },
  {
   "cell_type": "code",
   "execution_count": 5,
   "metadata": {},
   "outputs": [],
   "source": [
    "azure_data_download(AZURE_CONNECTION_STRING,CONTAINER_NAME)"
   ]
  },
  {
   "cell_type": "code",
   "execution_count": 6,
   "metadata": {},
   "outputs": [
    {
     "name": "stdout",
     "output_type": "stream",
     "text": [
      "pptx\n",
      "Azure_data\\Free_Test_Data_1MB_PPTX.pptx is being processed to documents.....\n",
      "27\n",
      "pdf\n",
      "Azure_data\\Natu Lauchande - Machine Learning Engineering with MLflow_ Manage the end-to-end machine learning life cycle with MLflow (2021, Packt Publishing) - libgen.li.pdf is being processed to documents.....\n",
      "1171\n",
      "docx\n",
      "Azure_data\\sample1.docx is being processed to documents.....\n",
      "43\n",
      "docx\n",
      "Azure_data\\sample2.docx is being processed to documents.....\n",
      "3\n",
      "html\n",
      "Azure_data\\sample2.html is being processed to documents.....\n",
      "2\n",
      "docx\n",
      "Azure_data\\sample4.docx is being processed to documents.....\n",
      "2334\n"
     ]
    }
   ],
   "source": [
    "files = file_to_chunks()"
   ]
  },
  {
   "cell_type": "code",
   "execution_count": 7,
   "metadata": {},
   "outputs": [
    {
     "data": {
      "text/plain": [
       "3580"
      ]
     },
     "execution_count": 7,
     "metadata": {},
     "output_type": "execute_result"
    }
   ],
   "source": [
    "len(files)"
   ]
  },
  {
   "cell_type": "code",
   "execution_count": 8,
   "metadata": {},
   "outputs": [],
   "source": [
    "from langchain_chroma import Chroma\n",
    "from langchain_openai import OpenAIEmbeddings\n",
    "from dotenv  import load_dotenv\n",
    "load_dotenv()\n",
    "db = Chroma.from_documents(files, OpenAIEmbeddings(), persist_directory=\"Chroma_db\",collection_metadata={\"name\":\"data\"})"
   ]
  },
  {
   "cell_type": "code",
   "execution_count": 10,
   "metadata": {},
   "outputs": [
    {
     "data": {
      "text/plain": [
       "<langchain_chroma.vectorstores.Chroma at 0x1adb552a8d0>"
      ]
     },
     "execution_count": 10,
     "metadata": {},
     "output_type": "execute_result"
    }
   ],
   "source": [
    "db"
   ]
  },
  {
   "cell_type": "code",
   "execution_count": null,
   "metadata": {},
   "outputs": [],
   "source": []
  }
 ],
 "metadata": {
  "kernelspec": {
   "display_name": ".venv",
   "language": "python",
   "name": "python3"
  },
  "language_info": {
   "codemirror_mode": {
    "name": "ipython",
    "version": 3
   },
   "file_extension": ".py",
   "mimetype": "text/x-python",
   "name": "python",
   "nbconvert_exporter": "python",
   "pygments_lexer": "ipython3",
   "version": "3.12.3"
  }
 },
 "nbformat": 4,
 "nbformat_minor": 2
}
